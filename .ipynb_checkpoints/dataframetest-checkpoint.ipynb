{
 "cells": [
  {
   "cell_type": "code",
   "execution_count": null,
   "metadata": {
    "collapsed": true
   },
   "outputs": [],
   "source": [
    "import pandas as pd\n",
    "import unittest\n",
    "exampledata = pd.read_csv('test.csv')\n",
    "del exampledata['Unnamed: 0']\n",
    "\n",
    "columns = exampledata.columns\n",
    "def dftest(data):\n",
    "    columnnames = []\n",
    "    for column in data:\n",
    "        print(type(data[column][0]))\n",
    "        if type(data[column][0]) == str:\n",
    "            raise TypeError(\"This dataframe contains columns that are not of type 'int64'.\")\n",
    "        columnnames.append(column)\n",
    "    return columnnames"
   ]
  }
 ],
 "metadata": {
  "kernelspec": {
   "display_name": "Python 3",
   "language": "python",
   "name": "python3"
  },
  "language_info": {
   "codemirror_mode": {
    "name": "ipython",
    "version": 3
   },
   "file_extension": ".py",
   "mimetype": "text/x-python",
   "name": "python",
   "nbconvert_exporter": "python",
   "pygments_lexer": "ipython3",
   "version": "3.6.3"
  }
 },
 "nbformat": 4,
 "nbformat_minor": 2
}
