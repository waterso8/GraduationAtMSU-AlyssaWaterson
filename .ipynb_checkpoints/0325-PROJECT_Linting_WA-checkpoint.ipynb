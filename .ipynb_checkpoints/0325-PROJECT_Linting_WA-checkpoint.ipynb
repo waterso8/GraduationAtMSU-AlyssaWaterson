{
 "cells": [
  {
   "cell_type": "markdown",
   "metadata": {},
   "source": [
    "# <center>Delinting (linting) your python code</center>\n",
    "\n",
    "<img src=\"https://lh4.googleusercontent.com/i0hZKXrihnUtlAQM6Hb89zo296lPckUN7FVMGih3D7z9WjueaImCXd98pAHA4GzHMrTFLglWqbGa2OxyDa2Y7ihp18ljIiaLIaHwNZSA4sRre3RRxrDcFj2FIv0c=w224\" width=20% alt=\"pyTest logo\">"
   ]
  },
  {
   "cell_type": "markdown",
   "metadata": {},
   "source": [
    "----\n",
    "<a name=\"Style_Guild\"></a>\n",
    "\n",
    "# 1. Style Guild\n",
    "\n",
    "&#9989; **<font color=red>DO THIS:</font>**  Review the pep8 style guild and updaate your code to follow the guild as is resonable for your project. \n",
    "\n",
    "### Python Enhancement Proposal Eight:\n",
    "* [PEP 8 -- Style Guild for Python](https://www.python.org/dev/peps/pep-0008/)\n",
    "* [A little cleaner pep8 guild](https://pep8.org/)\n"
   ]
  },
  {
   "cell_type": "markdown",
   "metadata": {},
   "source": [
    "----\n",
    "<a name=\"Installing_linters\"></a>\n",
    "\n",
    "# 2. Initial Lint Score\n",
    "\n",
    "&#9989;**<font color=red>DO THIS:</font>** Run ```pylint``` on your entire python project folder (including test files).  Write down the inicial lint score (officially it is a scale from 0-10 but weirdly you can get negative numbers). **_HINT_** Use ```make lint``` for this step.\n"
   ]
  },
  {
   "cell_type": "markdown",
   "metadata": {},
   "source": [
    "Okay so I ran it, and got -4.42/10 for the whole thing lol"
   ]
  },
  {
   "cell_type": "markdown",
   "metadata": {},
   "source": [
    "----\n",
    "<a name=\"Autopep8\"></a>\n",
    "\n",
    "# 3. Autopep8\n",
    "\n",
    "&#9989;**<font color=red>DO THIS:</font>** Try improving your lint score by running ```autopep8``` on each of your python files.  Try using any other assistance programs you think can help improve your score. "
   ]
  },
  {
   "cell_type": "markdown",
   "metadata": {},
   "source": [
    "----\n",
    "<a name=\"Manually_lint_your_code\"></a>\n",
    "\n",
    "# 4. Manually lint your code\n",
    "\n",
    "&#9989;**<font color=red>DO THIS:</font>** Modify your code to improve your pylint score.  Try to get your code to a level something above 6 or 7.  See if you can even reach a level of 10 for some/all of your files.  \n"
   ]
  },
  {
   "cell_type": "code",
   "execution_count": 2,
   "metadata": {},
   "outputs": [
    {
     "name": "stdout",
     "output_type": "stream",
     "text": [
      "************* Module calculate_pvalues\n",
      "C:  7, 0: Exactly one space required after comma\n",
      "def calculate_pvalues(df,method = spearmanr):\n",
      "                        ^ (bad-whitespace)\n",
      "C:  7, 0: No space allowed around keyword argument assignment\n",
      "def calculate_pvalues(df,method = spearmanr):\n",
      "                                ^ (bad-whitespace)\n",
      "C:  9, 0: Trailing whitespace (trailing-whitespace)\n",
      "C: 19, 0: Trailing newlines (trailing-newlines)\n",
      "C:  1, 0: Missing module docstring (missing-docstring)\n",
      "C:  7, 0: Invalid argument name \"df\" (invalid-name)\n",
      "E: 13,13: Undefined variable 'pd' (undefined-variable)\n",
      "C: 15, 8: Invalid variable name \"r\" (invalid-name)\n",
      "C: 16,12: Invalid variable name \"c\" (invalid-name)\n",
      "W:  6, 0: Unused pearsonr imported from scipy.stats (unused-import)\n",
      "\n",
      "------------------------------------\n",
      "\n",
      "Your code has been rated at -7.50/10\n",
      "\n",
      "\n",
      "\n"
     ]
    },
    {
     "name": "stderr",
     "output_type": "stream",
     "text": [
      "No config file found, using default configuration\n"
     ]
    }
   ],
   "source": [
    "!pylint calculate_pvalues.py"
   ]
  },
  {
   "cell_type": "markdown",
   "metadata": {},
   "source": [
    "after manual linting:"
   ]
  },
  {
   "cell_type": "code",
   "execution_count": 6,
   "metadata": {
    "scrolled": false
   },
   "outputs": [
    {
     "name": "stdout",
     "output_type": "stream",
     "text": [
      "************* Module calculate_pvalues\n",
      "C:  5, 0: Trailing whitespace (trailing-whitespace)\n",
      "C:  1, 0: Missing module docstring (missing-docstring)\n",
      "C:  2, 0: Invalid argument name \"df\" (invalid-name)\n",
      "C:  2, 0: Missing function docstring (missing-docstring)\n",
      "W:  8,-1: String statement has no effect (pointless-string-statement)\n",
      "\n",
      "------------------------------------------------------------------\n",
      "\n",
      "Your code has been rated at 5.00/10 (previous run: 4.00/10, +1.00)\n",
      "\n",
      "\n",
      "\n"
     ]
    },
    {
     "name": "stderr",
     "output_type": "stream",
     "text": [
      "No config file found, using default configuration\n"
     ]
    }
   ],
   "source": [
    "!pylint calculate_pvalues.py"
   ]
  },
  {
   "cell_type": "markdown",
   "metadata": {},
   "source": [
    "#### ----"
   ]
  },
  {
   "cell_type": "code",
   "execution_count": 7,
   "metadata": {},
   "outputs": [
    {
     "name": "stdout",
     "output_type": "stream",
     "text": [
      "************* Module correlation_matrix\n",
      "C:  8, 0: No space allowed around keyword argument assignment\n",
      "                       method = \"pearson\",\n",
      "                              ^ (bad-whitespace)\n",
      "C:  9, 0: No space allowed around keyword argument assignment\n",
      "                       annot_bool = False,\n",
      "                                  ^ (bad-whitespace)\n",
      "C: 10, 0: No space allowed around keyword argument assignment\n",
      "                       annot_size = 20\n",
      "                                  ^ (bad-whitespace)\n",
      "C: 13, 0: No space allowed around keyword argument assignment\n",
      "    corr = df.corr(method = method)\n",
      "                          ^ (bad-whitespace)\n",
      "C: 20, 0: Trailing whitespace (trailing-whitespace)\n",
      "C: 25, 0: Trailing whitespace (trailing-whitespace)\n",
      "C: 26, 0: Trailing whitespace (trailing-whitespace)\n",
      "C: 32, 0: Trailing whitespace (trailing-whitespace)\n",
      "C: 34, 0: Exactly one space required around comparison\n",
      "        annot = annot.where(pval>0.1,r0)\n",
      "                                ^ (bad-whitespace)\n",
      "C: 34, 0: Exactly one space required after comma\n",
      "        annot = annot.where(pval>0.1,r0)\n",
      "                                    ^ (bad-whitespace)\n",
      "C: 35, 0: Exactly one space required around comparison\n",
      "        annot = annot.where(pval<=0.1,r1)\n",
      "                                ^^ (bad-whitespace)\n",
      "C: 35, 0: Exactly one space required after comma\n",
      "        annot = annot.where(pval<=0.1,r1)\n",
      "                                     ^ (bad-whitespace)\n",
      "C: 36, 0: Exactly one space required around comparison\n",
      "        annot = annot.where(pval<=0.05,r2)\n",
      "                                ^^ (bad-whitespace)\n",
      "C: 36, 0: Exactly one space required after comma\n",
      "        annot = annot.where(pval<=0.05,r2)\n",
      "                                      ^ (bad-whitespace)\n",
      "C: 37, 0: Exactly one space required around comparison\n",
      "        annot = annot.mask(pval<=0.01,r3)\n",
      "                               ^^ (bad-whitespace)\n",
      "C: 37, 0: Exactly one space required after comma\n",
      "        annot = annot.mask(pval<=0.01,r3)\n",
      "                                     ^ (bad-whitespace)\n",
      "C: 44, 0: Trailing whitespace (trailing-whitespace)\n",
      "C: 46, 0: Line too long (113/100) (line-too-long)\n",
      "C: 58, 0: No space allowed around keyword argument assignment\n",
      "                annot = annot,\n",
      "                      ^ (bad-whitespace)\n",
      "C: 59, 0: No space allowed around keyword argument assignment\n",
      "                fmt = \"\",\n",
      "                    ^ (bad-whitespace)\n",
      "C: 61, 0: No space allowed around keyword argument assignment\n",
      "                vmin = -1,\n",
      "                     ^ (bad-whitespace)\n",
      "C: 62, 0: No space allowed around keyword argument assignment\n",
      "                vmax = 1,\n",
      "                     ^ (bad-whitespace)\n",
      "C: 64, 0: Trailing newlines (trailing-newlines)\n",
      "C:  1, 0: Missing module docstring (missing-docstring)\n",
      "C:  7, 0: Invalid argument name \"df\" (invalid-name)\n",
      "C:  7, 0: Missing function docstring (missing-docstring)\n",
      "R:  7, 0: Too many local variables (16/15) (too-many-locals)\n",
      "W: 16,-1: String statement has no effect (pointless-string-statement)\n",
      "E: 22,23: Undefined variable 'pearsonr' (undefined-variable)\n",
      "E: 24,23: Undefined variable 'spearmanr' (undefined-variable)\n",
      "E: 26,15: Undefined variable 'calculate_pvalues' (undefined-variable)\n",
      "C: 28, 8: Invalid variable name \"r0\" (invalid-name)\n",
      "W: 28,27: Lambda may not be necessary (unnecessary-lambda)\n",
      "C: 29, 8: Invalid variable name \"r1\" (invalid-name)\n",
      "W: 29,27: Lambda may not be necessary (unnecessary-lambda)\n",
      "C: 30, 8: Invalid variable name \"r2\" (invalid-name)\n",
      "W: 30,27: Lambda may not be necessary (unnecessary-lambda)\n",
      "C: 31, 8: Invalid variable name \"r3\" (invalid-name)\n",
      "W: 31,27: Lambda may not be necessary (unnecessary-lambda)\n",
      "E: 42,11: Undefined variable 'np' (undefined-variable)\n",
      "E: 42,37: Undefined variable 'np' (undefined-variable)\n",
      "E: 43, 9: Undefined variable 'np' (undefined-variable)\n",
      "W: 47,-1: String statement has no effect (pointless-string-statement)\n",
      "C: 50, 4: Invalid variable name \"f\" (invalid-name)\n",
      "C: 50, 7: Invalid variable name \"ax\" (invalid-name)\n",
      "E: 50,12: Undefined variable 'plt' (undefined-variable)\n",
      "E: 53,11: Undefined variable 'sns' (undefined-variable)\n",
      "E: 56, 4: Undefined variable 'sns' (undefined-variable)\n",
      "W: 50, 4: Unused variable 'f' (unused-variable)\n",
      "W: 50, 7: Unused variable 'ax' (unused-variable)\n",
      "\n",
      "-------------------------------------\n",
      "\n",
      "Your code has been rated at -25.83/10\n",
      "\n",
      "\n",
      "\n"
     ]
    },
    {
     "name": "stderr",
     "output_type": "stream",
     "text": [
      "No config file found, using default configuration\n"
     ]
    }
   ],
   "source": [
    "!pylint correlation_matrix.py"
   ]
  },
  {
   "cell_type": "markdown",
   "metadata": {},
   "source": [
    "after manual linting:"
   ]
  },
  {
   "cell_type": "code",
   "execution_count": 15,
   "metadata": {
    "scrolled": false
   },
   "outputs": [
    {
     "name": "stdout",
     "output_type": "stream",
     "text": [
      "************* Module correlation_matrix\n",
      "C: 17, 0: Trailing whitespace (trailing-whitespace)\n",
      "C: 21, 0: Trailing whitespace (trailing-whitespace)\n",
      "C: 22, 0: Trailing whitespace (trailing-whitespace)\n",
      "C: 39, 0: Trailing whitespace (trailing-whitespace)\n",
      "C:  1, 0: Missing module docstring (missing-docstring)\n",
      "C:  6, 0: Invalid argument name \"df\" (invalid-name)\n",
      "C:  6, 0: Missing function docstring (missing-docstring)\n",
      "R:  6, 0: Too many local variables (16/15) (too-many-locals)\n",
      "W: 15,-1: String statement has no effect (pointless-string-statement)\n",
      "E: 22,15: Undefined variable 'calculate_pvalues' (undefined-variable)\n",
      "C: 24, 8: Invalid variable name \"R0\" (invalid-name)\n",
      "W: 24,27: Lambda may not be necessary (unnecessary-lambda)\n",
      "C: 25, 8: Invalid variable name \"R1\" (invalid-name)\n",
      "W: 25,27: Lambda may not be necessary (unnecessary-lambda)\n",
      "C: 26, 8: Invalid variable name \"R2\" (invalid-name)\n",
      "W: 26,27: Lambda may not be necessary (unnecessary-lambda)\n",
      "C: 27, 8: Invalid variable name \"R3\" (invalid-name)\n",
      "W: 27,27: Lambda may not be necessary (unnecessary-lambda)\n",
      "E: 37, 4: 'mask' does not support item assignment (unsupported-assignment-operation)\n",
      "W: 41,-1: String statement has no effect (pointless-string-statement)\n",
      "C: 43, 4: Invalid variable name \"f\" (invalid-name)\n",
      "C: 43, 7: Invalid variable name \"ax\" (invalid-name)\n",
      "W: 43, 4: Unused variable 'f' (unused-variable)\n",
      "W: 43, 7: Unused variable 'ax' (unused-variable)\n",
      "\n",
      "--------------------------------------------------------------------\n",
      "\n",
      "Your code has been rated at -1.43/10 (previous run: -1.43/10, +0.00)\n",
      "\n",
      "\n",
      "\n"
     ]
    },
    {
     "name": "stderr",
     "output_type": "stream",
     "text": [
      "No config file found, using default configuration\n"
     ]
    }
   ],
   "source": [
    "!pylint correlation_matrix.py"
   ]
  },
  {
   "cell_type": "markdown",
   "metadata": {},
   "source": [
    "#### ----"
   ]
  },
  {
   "cell_type": "code",
   "execution_count": 16,
   "metadata": {},
   "outputs": [
    {
     "name": "stdout",
     "output_type": "stream",
     "text": [
      "************* Module read_file\n",
      "C:  7, 0: Trailing whitespace (trailing-whitespace)\n",
      "C: 30, 0: Trailing newlines (trailing-newlines)\n",
      "C:  1, 0: Missing module docstring (missing-docstring)\n",
      "C:  8, 0: standard import \"import os\" should be placed before \"import numpy as np\" (wrong-import-order)\n",
      "\n",
      "-----------------------------------\n",
      "\n",
      "Your code has been rated at 5.56/10\n",
      "\n",
      "\n",
      "\n"
     ]
    },
    {
     "name": "stderr",
     "output_type": "stream",
     "text": [
      "No config file found, using default configuration\n"
     ]
    }
   ],
   "source": [
    "!pylint read_file.py"
   ]
  },
  {
   "cell_type": "markdown",
   "metadata": {},
   "source": [
    "after linting:"
   ]
  },
  {
   "cell_type": "code",
   "execution_count": 18,
   "metadata": {
    "scrolled": true
   },
   "outputs": [
    {
     "name": "stdout",
     "output_type": "stream",
     "text": [
      "************* Module read_file\n",
      "C:  2, 0: Trailing whitespace (trailing-whitespace)\n",
      "C:  1, 0: Missing module docstring (missing-docstring)\n",
      "\n",
      "------------------------------------------------------------------\n",
      "\n",
      "Your code has been rated at 7.78/10 (previous run: 6.67/10, +1.11)\n",
      "\n",
      "\n",
      "\n"
     ]
    },
    {
     "name": "stderr",
     "output_type": "stream",
     "text": [
      "No config file found, using default configuration\n"
     ]
    }
   ],
   "source": [
    "!pylint read_file.py"
   ]
  },
  {
   "cell_type": "markdown",
   "metadata": {},
   "source": [
    "#### ----"
   ]
  },
  {
   "cell_type": "code",
   "execution_count": 19,
   "metadata": {},
   "outputs": [
    {
     "name": "stdout",
     "output_type": "stream",
     "text": [
      "************* Module dataframetest\n",
      "C: 21, 0: Trailing newlines (trailing-newlines)\n",
      "C:  1, 0: Missing module docstring (missing-docstring)\n",
      "C:  9, 0: Invalid constant name \"exampledata\" (invalid-name)\n",
      "C: 12, 0: Invalid constant name \"columns\" (invalid-name)\n",
      "C: 13, 0: Missing function docstring (missing-docstring)\n",
      "C: 17,11: Using type() instead of isinstance() for a typecheck. (unidiomatic-typecheck)\n",
      "W:  8, 0: Unused import unittest (unused-import)\n",
      "C:  8, 0: standard import \"import unittest\" should be placed before \"import pandas as pd\" (wrong-import-order)\n",
      "\n",
      "-----------------------------------\n",
      "\n",
      "Your code has been rated at 3.85/10\n",
      "\n",
      "\n",
      "\n"
     ]
    },
    {
     "name": "stderr",
     "output_type": "stream",
     "text": [
      "No config file found, using default configuration\n"
     ]
    }
   ],
   "source": [
    "!pylint dataframetest.py"
   ]
  },
  {
   "cell_type": "markdown",
   "metadata": {},
   "source": [
    "after manual linting:"
   ]
  },
  {
   "cell_type": "code",
   "execution_count": 24,
   "metadata": {},
   "outputs": [
    {
     "name": "stdout",
     "output_type": "stream",
     "text": [
      "************* Module dataframetest\n",
      "C:  1, 0: Missing module docstring (missing-docstring)\n",
      "C: 11, 0: Invalid constant name \"columns\" (invalid-name)\n",
      "C: 12, 0: Missing function docstring (missing-docstring)\n",
      "\n",
      "------------------------------------------------------------------\n",
      "\n",
      "Your code has been rated at 7.50/10 (previous run: 6.67/10, +0.83)\n",
      "\n",
      "\n",
      "\n"
     ]
    },
    {
     "name": "stderr",
     "output_type": "stream",
     "text": [
      "No config file found, using default configuration\n"
     ]
    }
   ],
   "source": [
    "!pylint dataframetest.py"
   ]
  },
  {
   "cell_type": "markdown",
   "metadata": {},
   "source": [
    "#### ----"
   ]
  },
  {
   "cell_type": "code",
   "execution_count": 25,
   "metadata": {},
   "outputs": [
    {
     "name": "stdout",
     "output_type": "stream",
     "text": [
      "************* Module graphweb\n",
      "C:  2, 0: Trailing whitespace (trailing-whitespace)\n",
      "C:  4, 0: Trailing whitespace (trailing-whitespace)\n",
      "C:  6, 0: Trailing whitespace (trailing-whitespace)\n",
      "C: 52, 0: Exactly one space required after comma\n",
      "            return htmlString,self.links #htmlString, self.links\n",
      "\n",
      "                             ^ (bad-whitespace)\n",
      "C: 54, 0: Exactly one space required after comma\n",
      "            return url,[]\n",
      "\n",
      "                      ^ (bad-whitespace)\n",
      "C: 56, 0: Exactly one space required after comma\n",
      "            return \"\",[]\n",
      "\n",
      "                     ^ (bad-whitespace)\n",
      "C: 60, 0: Trailing whitespace (trailing-whitespace)\n",
      "C: 64, 0: Exactly one space required around assignment\n",
      "    G=nx.Graph()\n",
      "\n",
      "     ^ (bad-whitespace)\n",
      "C: 65, 0: Trailing whitespace (trailing-whitespace)\n",
      "C: 90, 0: Trailing whitespace (trailing-whitespace)\n",
      "C: 91, 0: Final newline missing (missing-final-newline)\n",
      "C:  1, 0: Missing module docstring (missing-docstring)\n",
      "C: 40, 8: Invalid attribute name \"baseUrl\" (invalid-name)\n",
      "C: 12, 0: Missing class docstring (missing-docstring)\n",
      "W: 12, 0: Method 'error' is abstract in class 'ParserBase' but is not overridden (abstract-method)\n",
      "C: 30,20: Invalid variable name \"newUrl\" (invalid-name)\n",
      "C: 36, 4: Invalid method name \"getLinks\" (invalid-name)\n",
      "C: 36, 4: Missing method docstring (missing-docstring)\n",
      "C: 47,12: Invalid variable name \"htmlBytes\" (invalid-name)\n",
      "C: 50,12: Invalid variable name \"htmlString\" (invalid-name)\n",
      "R: 53, 8: Unnecessary \"else\" after \"return\" (no-else-return)\n",
      "W: 32,20: Attribute 'links' defined outside __init__ (attribute-defined-outside-init)\n",
      "W: 37, 8: Attribute 'links' defined outside __init__ (attribute-defined-outside-init)\n",
      "W: 40, 8: Attribute 'baseUrl' defined outside __init__ (attribute-defined-outside-init)\n",
      "C: 60, 0: Invalid argument name \"maxPages\" (invalid-name)\n",
      "C: 60, 0: Missing function docstring (missing-docstring)\n",
      "C: 61, 4: Invalid variable name \"pagesToVisit\" (invalid-name)\n",
      "C: 62, 4: Invalid variable name \"numberVisited\" (invalid-name)\n",
      "C: 63, 4: Invalid variable name \"foundWord\" (invalid-name)\n",
      "C: 64, 4: Invalid variable name \"G\" (invalid-name)\n",
      "C: 74, 8: Invalid variable name \"numberVisited\" (invalid-name)\n",
      "C: 77, 8: Invalid variable name \"pagesToVisit\" (invalid-name)\n",
      "W: 87, 8: No exception type(s) specified (bare-except)\n",
      "C: 84,16: Invalid variable name \"pagesToVisit\" (invalid-name)\n",
      "W: 63, 4: Unused variable 'foundWord' (unused-variable)\n",
      "W: 83,16: Unused variable 'data' (unused-variable)\n",
      "W:  7, 0: Unused urlretrieve imported from urllib.request (unused-import)\n",
      "\n",
      "-----------------------------------\n",
      "\n",
      "Your code has been rated at 2.13/10\n",
      "\n",
      "\n",
      "\n"
     ]
    },
    {
     "name": "stderr",
     "output_type": "stream",
     "text": [
      "No config file found, using default configuration\n"
     ]
    }
   ],
   "source": [
    "!pylint graphweb.py"
   ]
  },
  {
   "cell_type": "markdown",
   "metadata": {},
   "source": [
    "after manual linting:"
   ]
  },
  {
   "cell_type": "code",
   "execution_count": 30,
   "metadata": {
    "scrolled": false
   },
   "outputs": [
    {
     "name": "stdout",
     "output_type": "stream",
     "text": [
      "************* Module graphweb\n",
      "C:  1, 0: Missing module docstring (missing-docstring)\n",
      "C: 30, 8: Invalid attribute name \"baseUrl\" (invalid-name)\n",
      "C:  6, 0: Missing class docstring (missing-docstring)\n",
      "W:  6, 0: Method 'error' is abstract in class 'ParserBase' but is not overridden (abstract-method)\n",
      "C: 21,20: Invalid variable name \"NEWURL\" (invalid-name)\n",
      "C: 26, 4: Invalid method name \"getLinks\" (invalid-name)\n",
      "C: 26, 4: Missing method docstring (missing-docstring)\n",
      "C: 37,12: Invalid variable name \"htmlBytes\" (invalid-name)\n",
      "C: 40,12: Invalid variable name \"htmlString\" (invalid-name)\n",
      "R: 43, 8: Unnecessary \"else\" after \"return\" (no-else-return)\n",
      "W: 23,20: Attribute 'links' defined outside __init__ (attribute-defined-outside-init)\n",
      "W: 27, 8: Attribute 'links' defined outside __init__ (attribute-defined-outside-init)\n",
      "W: 30, 8: Attribute 'baseUrl' defined outside __init__ (attribute-defined-outside-init)\n",
      "C: 49, 0: Invalid argument name \"maxPages\" (invalid-name)\n",
      "C: 49, 0: Missing function docstring (missing-docstring)\n",
      "C: 50, 4: Invalid variable name \"pagesToVisit\" (invalid-name)\n",
      "C: 51, 4: Invalid variable name \"numberVisited\" (invalid-name)\n",
      "C: 52, 4: Invalid variable name \"foundWord\" (invalid-name)\n",
      "C: 53, 4: Invalid variable name \"G\" (invalid-name)\n",
      "C: 62, 8: Invalid variable name \"numberVisited\" (invalid-name)\n",
      "C: 65, 8: Invalid variable name \"pagesToVisit\" (invalid-name)\n",
      "W: 75, 8: No exception type(s) specified (bare-except)\n",
      "C: 72,16: Invalid variable name \"pagesToVisit\" (invalid-name)\n",
      "W: 52, 4: Unused variable 'foundWord' (unused-variable)\n",
      "W: 71,16: Unused variable 'data' (unused-variable)\n",
      "W:  4, 0: Unused urlretrieve imported from urllib.request (unused-import)\n",
      "\n",
      "------------------------------------------------------------------\n",
      "\n",
      "Your code has been rated at 4.47/10 (previous run: 4.47/10, +0.00)\n",
      "\n",
      "\n",
      "\n"
     ]
    },
    {
     "name": "stderr",
     "output_type": "stream",
     "text": [
      "No config file found, using default configuration\n"
     ]
    }
   ],
   "source": [
    "!pylint graphweb.py"
   ]
  },
  {
   "cell_type": "markdown",
   "metadata": {},
   "source": [
    "#### ----"
   ]
  },
  {
   "cell_type": "code",
   "execution_count": 31,
   "metadata": {},
   "outputs": [
    {
     "name": "stdout",
     "output_type": "stream",
     "text": [
      "************* Module ReadCSV\n",
      "C:  9, 0: Trailing whitespace (trailing-whitespace)\n",
      "C: 11, 0: Trailing whitespace (trailing-whitespace)\n",
      "C: 13, 0: Line too long (119/100) (line-too-long)\n",
      "C: 21, 0: Trailing whitespace (trailing-whitespace)\n",
      "C: 25, 0: Trailing newlines (trailing-newlines)\n",
      "C:  1, 0: Missing module docstring (missing-docstring)\n",
      "C:  7, 0: Invalid function name \"ReadCSV\" (invalid-name)\n",
      "C:  7, 0: Missing function docstring (missing-docstring)\n",
      "E: 12, 4: Undefined variable 'get_ipython' (undefined-variable)\n",
      "W: 22,-1: String statement has no effect (pointless-string-statement)\n",
      "W:  9, 4: Unused variable 'np' (unused-variable)\n",
      "W: 11, 4: Unused variable 'plt' (unused-variable)\n",
      "W: 10, 4: Unused variable 'preprocessing' (unused-variable)\n",
      "W: 14, 4: Unused variable 'spearmanr' (unused-variable)\n",
      "W: 14, 4: Unused variable 'pearsonr' (unused-variable)\n",
      "\n",
      "------------------------------------\n",
      "\n",
      "Your code has been rated at -4.62/10\n",
      "\n",
      "\n",
      "\n"
     ]
    },
    {
     "name": "stderr",
     "output_type": "stream",
     "text": [
      "No config file found, using default configuration\n"
     ]
    }
   ],
   "source": [
    "!pylint ReadCSV.py"
   ]
  },
  {
   "cell_type": "markdown",
   "metadata": {},
   "source": [
    "after manual lint:"
   ]
  },
  {
   "cell_type": "code",
   "execution_count": 33,
   "metadata": {
    "scrolled": true
   },
   "outputs": [
    {
     "name": "stdout",
     "output_type": "stream",
     "text": [
      "************* Module ReadCSV\n",
      "C:  1, 0: Missing module docstring (missing-docstring)\n",
      "C:  1, 0: Invalid function name \"ReadCSV\" (invalid-name)\n",
      "C:  1, 0: Missing function docstring (missing-docstring)\n",
      "W: 16,-1: String statement has no effect (pointless-string-statement)\n",
      "\n",
      "-------------------------------------------------------------------\n",
      "\n",
      "Your code has been rated at 5.00/10 (previous run: -3.00/10, +8.00)\n",
      "\n",
      "\n",
      "\n"
     ]
    },
    {
     "name": "stderr",
     "output_type": "stream",
     "text": [
      "No config file found, using default configuration\n"
     ]
    }
   ],
   "source": [
    "!pylint ReadCSV.py"
   ]
  },
  {
   "cell_type": "markdown",
   "metadata": {},
   "source": [
    "#### ----"
   ]
  },
  {
   "cell_type": "code",
   "execution_count": 34,
   "metadata": {},
   "outputs": [
    {
     "name": "stdout",
     "output_type": "stream",
     "text": [
      "************* Module string_test\n",
      "C: 14, 0: Trailing newlines (trailing-newlines)\n",
      "C:  1, 0: Missing module docstring (missing-docstring)\n",
      "C: 11, 0: Missing class docstring (missing-docstring)\n",
      "C: 12, 4: Missing method docstring (missing-docstring)\n",
      "W:  8, 0: Unused pandas imported as pd (unused-import)\n",
      "\n",
      "-----------------------------------\n",
      "\n",
      "Your code has been rated at 1.67/10\n",
      "\n",
      "\n",
      "\n"
     ]
    },
    {
     "name": "stderr",
     "output_type": "stream",
     "text": [
      "No config file found, using default configuration\n"
     ]
    }
   ],
   "source": [
    "!pylint string_test.py"
   ]
  },
  {
   "cell_type": "markdown",
   "metadata": {},
   "source": [
    "after manual linting:"
   ]
  },
  {
   "cell_type": "code",
   "execution_count": 37,
   "metadata": {},
   "outputs": [
    {
     "name": "stdout",
     "output_type": "stream",
     "text": [
      "************* Module string_test\n",
      "C:  1, 0: Missing module docstring (missing-docstring)\n",
      "C:  4, 0: Missing class docstring (missing-docstring)\n",
      "C:  5, 4: Missing method docstring (missing-docstring)\n",
      "\n",
      "------------------------------------------------------------------\n",
      "\n",
      "Your code has been rated at 4.00/10 (previous run: 4.00/10, +0.00)\n",
      "\n",
      "\n",
      "\n"
     ]
    },
    {
     "name": "stderr",
     "output_type": "stream",
     "text": [
      "No config file found, using default configuration\n"
     ]
    }
   ],
   "source": [
    "!pylint string_test.py"
   ]
  },
  {
   "cell_type": "markdown",
   "metadata": {},
   "source": [
    "#### ----"
   ]
  },
  {
   "cell_type": "markdown",
   "metadata": {},
   "source": [
    "After all of the linting, I now have a score of 3.7/10, a score of +8.11 total! I chose to let it stay at this score because many of the score depletions were about docstrings and I read on the internet that a lot of people choose to ignore this warning because they have docstrings but just don't upload them places. Otherwise, some of the leftover warnings are about how variables are named per the naming convention, but since I didn't create every one of these .py files, I didn't want to mess with the integrity of the naming system in case things got confusing in the future (e.g. changing the name of a variable called 'newURL' to something like 'x'; it would take me longer to interpret what 'x' means rather than just looking at it and being like, oh! They're making a new url!)."
   ]
  },
  {
   "cell_type": "markdown",
   "metadata": {},
   "source": [
    "---\n",
    "### Getting credit for your assignment\n",
    "\n",
    "Commit all of your code changes and push them to your project git repository on or before **11:59pm on Thursday March 25**. Your instructor will download your repository and check your lint using the ```make lint``` command so make sure that is working. "
   ]
  },
  {
   "cell_type": "markdown",
   "metadata": {},
   "source": [
    "-----\n",
    "### Congratulations, you are done!"
   ]
  }
 ],
 "metadata": {
  "anaconda-cloud": {},
  "kernelspec": {
   "display_name": "Python 3",
   "language": "python",
   "name": "python3"
  },
  "language_info": {
   "codemirror_mode": {
    "name": "ipython",
    "version": 3
   },
   "file_extension": ".py",
   "mimetype": "text/x-python",
   "name": "python",
   "nbconvert_exporter": "python",
   "pygments_lexer": "ipython3",
   "version": "3.6.3"
  }
 },
 "nbformat": 4,
 "nbformat_minor": 4
}
