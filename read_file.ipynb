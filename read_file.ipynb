{
 "cells": [
  {
   "cell_type": "code",
   "execution_count": null,
   "metadata": {
    "collapsed": true
   },
   "outputs": [],
   "source": [
    "import numpy as np \n",
    "import os\n",
    "\n",
    "def read_file(filename):\n",
    "    '''\n",
    "        Read input file with given name.\n",
    "\n",
    "        Args:\n",
    "            filename (string): full path for input file\n",
    "        Returns:\n",
    "            (numpy array): the content of the file\n",
    "    '''\n",
    "    if not os.path.isfile(filename):\n",
    "        raise ValueError(\"Input file does not exist: {0}. I'll quit now.\".format(filename))\n",
    "\n",
    "    # code to load and parse the data from input file\n",
    "    data = np.loadtxt(filename, delimiter=',')\n",
    "\n",
    "    if len(data) < 5:\n",
    "        # there should be 5 rows\n",
    "        raise ValueError(\"Not enough rows in input file.\")\n",
    "\n",
    "    return data"
   ]
  }
 ],
 "metadata": {
  "kernelspec": {
   "display_name": "Python 3",
   "language": "python",
   "name": "python3"
  },
  "language_info": {
   "codemirror_mode": {
    "name": "ipython",
    "version": 3
   },
   "file_extension": ".py",
   "mimetype": "text/x-python",
   "name": "python",
   "nbconvert_exporter": "python",
   "pygments_lexer": "ipython3",
   "version": "3.6.3"
  }
 },
 "nbformat": 4,
 "nbformat_minor": 2
}
