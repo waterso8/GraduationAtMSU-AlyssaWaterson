{
 "cells": [
  {
   "cell_type": "markdown",
   "metadata": {},
   "source": [
    "# <center>  The Effect of Transfer Course Status on Time-to-Degree at Michigan State University </center>\n",
    "\n",
    "<center>Alyssa C. Waterson</center>"
   ]
  },
  {
   "cell_type": "markdown",
   "metadata": {},
   "source": [
    "\n",
    "<img src=\"https://64.media.tumblr.com/23e164d141a63d391018d8ca51fb054e/17a0f26e4bf75ae5-95/s500x750/477773184fa2cb65d0bc67b6b480f92bb201c8f6.png\" width=\"40%\">\n",
    "\n"
   ]
  },
  {
   "cell_type": "markdown",
   "metadata": {},
   "source": [
    "---\n",
    "# Overview"
   ]
  },
  {
   "cell_type": "markdown",
   "metadata": {},
   "source": [
    "### Physics Education Research -- Quantitative domain\n",
    "\n",
    "Physics Education Research (PER) is a lean of physics research that pertains to the improvement of quality of education in the ever-changing climate of physics and other fields. There is an extensive history of qualitative methodology within this field, especially using analysis inspired by fields such as psychology and philosophy, among many others. The quantitative side of PER has grown exponentially in the modern age of the field, as data science continues to become a predominant field of study. In education, we can use quantitative methodology to analyze many interesting questions in the field, including those related to large populations of students, gathering data from surveys and test scores, and using statistical analysis and Machine Learning methodology to approach complicated research questions.\n",
    "\n",
    "My research pertains specifically to working with big data and Machine Learning in order to explore time-to-degree and how transfer courses affect it. Time-to-degree would be how long it takes a student to have a degree conferred to them from starting time at Michigan State University, measured in semesters. Consider an ideal 4-year trajectory; we could represent this as 8 semesters, and compare past data of students' time-to-degree depending on what types of transfer courses they bring into MSU.\n",
    "\n",
    "Having transfer courses to bring in can be seen as a big advantage upon entering MSU -- but it can also be seen as a waste of time, depending on one's trajectory in attaining their degree. This research splits the student population up into three groups: students with at least one college level transfer course, students with _only_ Advanced-Placement level transfer courses, and students with no transfer courses. These populations are completely distinct from each other, and we aim to compare the graduation times of each of these populations in order to assess whether transfer course status is a significant factor in time-to-degree. "
   ]
  },
  {
   "cell_type": "markdown",
   "metadata": {},
   "source": [
    "---\n",
    "# Program Description"
   ]
  },
  {
   "cell_type": "markdown",
   "metadata": {},
   "source": [
    "The current stage of the research is that we have produced several plots pertaining to the impact of transfer courses on graduation attrition of students at MSU. Attrition is the persistence of students' trajectories in their academic career, i.e. if they choose to come back another semester up until graduation. Since our study pertains the act of graduation _specifically_, with our outcome variable being time-to-degree, attrition can be made an inquiry from our results. It is unsure _why_ students aren't graduating if they are not included in our data (e.g. finances, temporary leave, failure, etc.), but we can make inferences from the results of _graduated_ students about how a lack of transfer course status can be a possible barrier in students' trajectories.\n",
    "\n",
    "We have already created several cumulative distribution plots showing the percent of students graduated by a certain semester value. By comparing the three populations (described above), we have assessed that students with transfer courses are more likely to graduate earlier than students without transfer courses. While this may seem like a 'water is wet' sort of analysis, we have additionally found that, of all students who have attended MSU & graduated between 1992 and 2015, only around 70% of _any_ of the students have graduated by 8 semesters. \n",
    "\n",
    "We want to further this research beyond the ANOVA plots and Cohen's d statistics that we have run, comparing demographic information and delving into the physics major VS. overall MSU population's graduation times. Expanding, we want to train a model that will take information (features) such as demographic information, transfer course status, and other possible factors on time-to-degree, asking more about STEM majors and questioning through the model whether students will graduate at or before a certain time period (e.g. 6 years). We can use `stats models` or `scikit` for a regression model that fits this criteria."
   ]
  },
  {
   "cell_type": "markdown",
   "metadata": {},
   "source": [
    "---\n",
    "# Project Goals and Timeline\n",
    "\n",
    "\n",
    "- 1/29/2021 - Create git repository \n",
    "- 2/12/2021 - Proposal Due\n",
    "- 2/26/2021 - Stub functions and Example code integration (With documentation)\n",
    "- 3/12/2021 - Unit Test Integration\n",
    "- 3/25/2021 - Coding Standards and Linting\n",
    "- 4/9/2021 - Code Review \n",
    "- 4/16/2021 - Presentation Video Due\n",
    "- 4/23/2021 - Final Report and Code due.\n",
    "\n",
    "\n"
   ]
  },
  {
   "cell_type": "markdown",
   "metadata": {},
   "source": [
    "Short term:\n",
    "- Sorting through old data, organization, cleaning of previous plots & models that will be used for this analysis\n",
    "- Read into logistic regression, research `stats models` & `scikit` for appropriate methodology\n",
    "\n",
    "Mid term:\n",
    "- Sort through features appropriate for regression model\n",
    "- Start training on small amounts of features\n",
    "\n",
    "Long term:\n",
    "- Project cleanup, full features list implemented\n",
    "- Presentation & video work"
   ]
  },
  {
   "cell_type": "markdown",
   "metadata": {},
   "source": [
    "---\n",
    "# Anticipating Challenges  "
   ]
  },
  {
   "cell_type": "markdown",
   "metadata": {},
   "source": [
    "I anticipate many challenges, especially in ensuring that our data has enough features to run a coherent & expansive model to train to. I worry mainly about time management, as I have never executed a successful linear regression with so many variables before. Should timing be an issue, I will narrow the scope to honing previous data and performing different quantitative analyses on data that already exists and our previous research questions.\n",
    "- Data cleanup\n",
    "- Features finding, cleaning\n",
    "- Missing data"
   ]
  }
 ],
 "metadata": {
  "anaconda-cloud": {},
  "kernelspec": {
   "display_name": "Python 3",
   "language": "python",
   "name": "python3"
  },
  "language_info": {
   "codemirror_mode": {
    "name": "ipython",
    "version": 3
   },
   "file_extension": ".py",
   "mimetype": "text/x-python",
   "name": "python",
   "nbconvert_exporter": "python",
   "pygments_lexer": "ipython3",
   "version": "3.6.3"
  }
 },
 "nbformat": 4,
 "nbformat_minor": 1
}
